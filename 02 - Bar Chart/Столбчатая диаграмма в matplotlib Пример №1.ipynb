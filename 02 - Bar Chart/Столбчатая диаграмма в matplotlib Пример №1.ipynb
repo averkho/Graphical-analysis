{
 "cells": [
  {
   "cell_type": "markdown",
   "metadata": {},
   "source": [
    "# Построение столбчатых диаграмм в Matplotlib"
   ]
  },
  {
   "cell_type": "markdown",
   "metadata": {},
   "source": [
    "Импорт необходимых библиотек"
   ]
  },
  {
   "cell_type": "code",
   "execution_count": 1,
   "metadata": {},
   "outputs": [],
   "source": [
    "import pandas as pd\n",
    "import numpy as np\n",
    "import matplotlib.pyplot as plt"
   ]
  },
  {
   "cell_type": "markdown",
   "metadata": {},
   "source": [
    "Импорт данных"
   ]
  },
  {
   "cell_type": "code",
   "execution_count": 20,
   "metadata": {},
   "outputs": [
    {
     "data": {
      "text/html": [
       "<div>\n",
       "<style scoped>\n",
       "    .dataframe tbody tr th:only-of-type {\n",
       "        vertical-align: middle;\n",
       "    }\n",
       "\n",
       "    .dataframe tbody tr th {\n",
       "        vertical-align: top;\n",
       "    }\n",
       "\n",
       "    .dataframe thead th {\n",
       "        text-align: right;\n",
       "    }\n",
       "</style>\n",
       "<table border=\"1\" class=\"dataframe\">\n",
       "  <thead>\n",
       "    <tr style=\"text-align: right;\">\n",
       "      <th></th>\n",
       "      <th>№п/п</th>\n",
       "      <th>дефекты</th>\n",
       "      <th>квартал</th>\n",
       "    </tr>\n",
       "  </thead>\n",
       "  <tbody>\n",
       "    <tr>\n",
       "      <th>0</th>\n",
       "      <td>1</td>\n",
       "      <td>сучки</td>\n",
       "      <td>первый</td>\n",
       "    </tr>\n",
       "    <tr>\n",
       "      <th>1</th>\n",
       "      <td>2</td>\n",
       "      <td>скручивание</td>\n",
       "      <td>первый</td>\n",
       "    </tr>\n",
       "    <tr>\n",
       "      <th>2</th>\n",
       "      <td>3</td>\n",
       "      <td>скручивание</td>\n",
       "      <td>первый</td>\n",
       "    </tr>\n",
       "    <tr>\n",
       "      <th>3</th>\n",
       "      <td>4</td>\n",
       "      <td>скручивание</td>\n",
       "      <td>первый</td>\n",
       "    </tr>\n",
       "    <tr>\n",
       "      <th>4</th>\n",
       "      <td>5</td>\n",
       "      <td>чаша</td>\n",
       "      <td>первый</td>\n",
       "    </tr>\n",
       "  </tbody>\n",
       "</table>\n",
       "</div>"
      ],
      "text/plain": [
       "   №п/п      дефекты квартал\n",
       "0     1        сучки  первый\n",
       "1     2  скручивание  первый\n",
       "2     3  скручивание  первый\n",
       "3     4  скручивание  первый\n",
       "4     5         чаша  первый"
      ]
     },
     "execution_count": 20,
     "metadata": {},
     "output_type": "execute_result"
    }
   ],
   "source": [
    "dat=pd.read_excel('C:\\YellowBelt/Дефекты пиломатериалов.xlsx','Данные')\n",
    "dat.head()"
   ]
  },
  {
   "cell_type": "markdown",
   "metadata": {},
   "source": [
    "Подготовка данных"
   ]
  },
  {
   "cell_type": "code",
   "execution_count": 21,
   "metadata": {},
   "outputs": [],
   "source": [
    "defects=dat['дефекты'].value_counts()"
   ]
  },
  {
   "cell_type": "markdown",
   "metadata": {},
   "source": [
    "# Задача №1. Оценить уровень дефектов в компании. Выделить приоритетные направления для работы команды Шесть Сигм."
   ]
  },
  {
   "cell_type": "markdown",
   "metadata": {},
   "source": [
    "Построение столбчатой диаграммы"
   ]
  },
  {
   "cell_type": "code",
   "execution_count": 22,
   "metadata": {},
   "outputs": [
    {
     "data": {
      "image/png": "[encoded data removed]",
      "text/plain": [
       "<Figure size 720x576 with 1 Axes>"
      ]
     },
     "metadata": {
      "needs_background": "light"
     },
     "output_type": "display_data"
    }
   ],
   "source": [
    "fig=plt.figure(figsize=(10,8))\n",
    "ax=fig.add_subplot(111)\n",
    "ax.bar(defects.index,defects,color='blue') # Построение столбчатой диаграммы\n",
    "ax.set_ylabel('Количество дефектов') # Название оси Y\n",
    "ax.grid(True) # Добавление линий сетки\n",
    "plt.title('Дефекты пиломатериалов') # Название графика\n",
    "plt.show()"
   ]
  },
  {
   "cell_type": "markdown",
   "metadata": {},
   "source": [
    "Функция по добавлению названий на столбики"
   ]
  },
  {
   "cell_type": "code",
   "execution_count": 23,
   "metadata": {},
   "outputs": [],
   "source": [
    "def autolabels(rects):\n",
    "    \"\"\"Добавление текста на каждый столбик. Текст - величина столбика\"\"\"\n",
    "    for rect in rects:\n",
    "        height=rect.get_height() # Значения - высота столбцов\n",
    "        ax.annotate('{}'.format(height), # Добавление значений на столбцы\n",
    "                    xy=(rect.get_x()+rect.get_width()/2,height), # координаты подписей\n",
    "                    xytext=(0,4), # Вертикальное смещение подписи -  4 \n",
    "                    textcoords=\"offset points\", # координатная система xytext\n",
    "                    ha='center',va='bottom') # горизонтальное и вертикальное расположение текста"
   ]
  },
  {
   "cell_type": "code",
   "execution_count": 24,
   "metadata": {},
   "outputs": [
    {
     "data": {
      "image/png": "[encoded data removed]",
      "text/plain": [
       "<Figure size 720x576 with 1 Axes>"
      ]
     },
     "metadata": {
      "needs_background": "light"
     },
     "output_type": "display_data"
    }
   ],
   "source": [
    "fig=plt.figure(figsize=(10,8))\n",
    "ax=fig.add_subplot(111)\n",
    "ax.bar(defects.index,defects,color='blue') # Построение столбчатой диаграммы\n",
    "ax.set_ylabel('Количество дефектов') # Название оси Y\n",
    "ax.grid(True) # Добавление линий сетки\n",
    "plt.title('Дефекты пиломатериалов') # Название графика\n",
    "autolabels(rects) # Добавление подписей на столбцы\n",
    "plt.show() # Показать график"
   ]
  },
  {
   "cell_type": "markdown",
   "metadata": {},
   "source": [
    "# Задача №2. Сравнить первый и второй кварталы и сделать соответствующие выводы"
   ]
  },
  {
   "cell_type": "markdown",
   "metadata": {},
   "source": [
    "Дефекты по кварталам"
   ]
  },
  {
   "cell_type": "code",
   "execution_count": 25,
   "metadata": {},
   "outputs": [],
   "source": [
    "dat_Q1=dat[dat['квартал']=='первый']['дефекты'].value_counts()\n",
    "dat_Q2=dat[dat['квартал']=='второй']['дефекты'].value_counts()"
   ]
  },
  {
   "cell_type": "code",
   "execution_count": 26,
   "metadata": {},
   "outputs": [
    {
     "data": {
      "text/plain": [
       "скручивание    133\n",
       "трещины         52\n",
       "изгиб           49\n",
       "сучки           31\n",
       "чаша            21\n",
       "раскол          14\n",
       "Name: дефекты, dtype: int64"
      ]
     },
     "execution_count": 26,
     "metadata": {},
     "output_type": "execute_result"
    }
   ],
   "source": [
    "dat_Q1"
   ]
  },
  {
   "cell_type": "code",
   "execution_count": 27,
   "metadata": {},
   "outputs": [
    {
     "data": {
      "text/plain": [
       "скручивание    132\n",
       "изгиб           99\n",
       "трещины         53\n",
       "сучки           51\n",
       "чаша            44\n",
       "раскол          19\n",
       "Name: дефекты, dtype: int64"
      ]
     },
     "execution_count": 27,
     "metadata": {},
     "output_type": "execute_result"
    }
   ],
   "source": [
    "dat_Q2"
   ]
  },
  {
   "cell_type": "code",
   "execution_count": 30,
   "metadata": {},
   "outputs": [],
   "source": [
    "dat_Q1_Q2=pd.concat([dat_Q1,dat_Q2],axis=1) # объединение двух объектов Series в DataFrame\n",
    "dat_Q1_Q2.columns=['первый','второй'] # Имена колонок"
   ]
  },
  {
   "cell_type": "code",
   "execution_count": 31,
   "metadata": {},
   "outputs": [
    {
     "data": {
      "text/html": [
       "<div>\n",
       "<style scoped>\n",
       "    .dataframe tbody tr th:only-of-type {\n",
       "        vertical-align: middle;\n",
       "    }\n",
       "\n",
       "    .dataframe tbody tr th {\n",
       "        vertical-align: top;\n",
       "    }\n",
       "\n",
       "    .dataframe thead th {\n",
       "        text-align: right;\n",
       "    }\n",
       "</style>\n",
       "<table border=\"1\" class=\"dataframe\">\n",
       "  <thead>\n",
       "    <tr style=\"text-align: right;\">\n",
       "      <th></th>\n",
       "      <th>первый</th>\n",
       "      <th>второй</th>\n",
       "    </tr>\n",
       "  </thead>\n",
       "  <tbody>\n",
       "    <tr>\n",
       "      <th>скручивание</th>\n",
       "      <td>133</td>\n",
       "      <td>132</td>\n",
       "    </tr>\n",
       "    <tr>\n",
       "      <th>трещины</th>\n",
       "      <td>52</td>\n",
       "      <td>53</td>\n",
       "    </tr>\n",
       "    <tr>\n",
       "      <th>изгиб</th>\n",
       "      <td>49</td>\n",
       "      <td>99</td>\n",
       "    </tr>\n",
       "    <tr>\n",
       "      <th>сучки</th>\n",
       "      <td>31</td>\n",
       "      <td>51</td>\n",
       "    </tr>\n",
       "    <tr>\n",
       "      <th>чаша</th>\n",
       "      <td>21</td>\n",
       "      <td>44</td>\n",
       "    </tr>\n",
       "    <tr>\n",
       "      <th>раскол</th>\n",
       "      <td>14</td>\n",
       "      <td>19</td>\n",
       "    </tr>\n",
       "  </tbody>\n",
       "</table>\n",
       "</div>"
      ],
      "text/plain": [
       "             первый  второй\n",
       "скручивание     133     132\n",
       "трещины          52      53\n",
       "изгиб            49      99\n",
       "сучки            31      51\n",
       "чаша             21      44\n",
       "раскол           14      19"
      ]
     },
     "execution_count": 31,
     "metadata": {},
     "output_type": "execute_result"
    }
   ],
   "source": [
    "dat_Q1_Q2"
   ]
  },
  {
   "cell_type": "code",
   "execution_count": 32,
   "metadata": {},
   "outputs": [],
   "source": [
    "width=0.35 # Ширина столбцов"
   ]
  },
  {
   "cell_type": "code",
   "execution_count": 33,
   "metadata": {},
   "outputs": [],
   "source": [
    "x=np.arange(len(dat_Q1)) # метки для столбцов"
   ]
  },
  {
   "cell_type": "markdown",
   "metadata": {},
   "source": [
    "Построение группированного графика"
   ]
  },
  {
   "cell_type": "code",
   "execution_count": 36,
   "metadata": {},
   "outputs": [
    {
     "data": {
      "image/png": "[encoded data removed]",
      "text/plain": [
       "<Figure size 720x576 with 1 Axes>"
      ]
     },
     "metadata": {
      "needs_background": "light"
     },
     "output_type": "display_data"
    }
   ],
   "source": [
    "fig=plt.figure(figsize=(10,8))\n",
    "ax=fig.add_subplot(111)\n",
    "rects1=ax.bar(x-width/2,dat_Q1_Q2['первый'],width,label='Первый квартал') # Первая столбчатая диаграмма\n",
    "rects2=ax.bar(x+width/2,dat_Q1_Q2['второй'],width,label='Второй квартал') # Вторая столбчатая диаграмма\n",
    "ax.set_ylabel('Количество дефектов') # Подпись оси Y\n",
    "ax.set_title('Дефекты в первом и втором кварталах') # Название графика\n",
    "ax.set_xticks(x) # Добавление меток на ось X\n",
    "ax.set_xticklabels(dat_Q1_Q2.index) # Доавление пописей меток\n",
    "\n",
    "autolabels(rects1) # Добавление подписей на первый график\n",
    "autolabels(rects2) # Добавление подписей на второй график\n",
    "plt.grid(True) # Добавление линий сеток\n",
    "ax.legend() # Добавление легенды на график\n",
    "fig.tight_layout() "
   ]
  },
  {
   "cell_type": "code",
   "execution_count": null,
   "metadata": {},
   "outputs": [],
   "source": []
  }
 ],
 "metadata": {
  "kernelspec": {
   "display_name": "Python 3",
   "language": "python",
   "name": "python3"
  },
  "language_info": {
   "codemirror_mode": {
    "name": "ipython",
    "version": 3
   },
   "file_extension": ".py",
   "mimetype": "text/x-python",
   "name": "python",
   "nbconvert_exporter": "python",
   "pygments_lexer": "ipython3",
   "version": "3.7.6"
  }
 },
 "nbformat": 4,
 "nbformat_minor": 4
}
